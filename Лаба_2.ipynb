{
 "cells": [
  {
   "cell_type": "code",
   "execution_count": 12,
   "id": "79c302bb-e0c5-4cde-88cd-33e9e9a5c6f4",
   "metadata": {},
   "outputs": [
    {
     "name": "stdin",
     "output_type": "stream",
     "text": [
      "Введите последовательность аминокислот:  ALECYYDVTASDGESGYWNFIQTTPVGVWYWAELDLIGHMLESANVETVRCCWNCYMCADCAFPIHIYYRHGIFSLYQSTLSTIQYVFRGSGVCNTIVLFESRHSLIDVDLTTGFVAFKHVIQTANVWKVAAFGLARVRWKKDIFDGGLDWESQMMYSTVRHVASNVDVMHYAPGIPKQGGKFPIPKAKGGEMNVIRQERNVNKHKVWTSWIKEMVDDNNVHNFWTWHYNEWCCNDSWFHNAIGPSDIECKGTPMKFWIVRPNASCLIKKYDNSDNFNYLNAMDRYYNAFHGYLGMAMAQLYVDSWEPTTDAACHIKQCQYCYLNRPICPFEVSELDHHHHVIFHFRSKIYGSTPWFARSTEYSNSSWDIFHGVTCWLRSSHFACDMETWFQYFTSVWNFYKNDTPRETTGEPFELNWHWCHNINSYDARDTGKKAEGFTIKCMAYRQFGWHPDSDCNILELDMPYETISGGERTARGTPTFIHATEWINSCKSVELVTKHRELFEWKQGKHGIGHYDFFQPMYHGPFTPWCRENLPPRTSMCAPMKDSYISHDDDTKFKCMLLHIWKYTVNLWSPVNICPAQSCDGNLKCVKGCHPVTYRLPRSSLFDSYYLRKMVELDPKYQDLVQLTTFHPTCGCDYGVMIRFSPFTPNAHVTVNIYCARSCGACYDLATTASTWKRTKTGITVPLLFAIGHQDLMYVCLFSELPRQIENCHQVYSVSIQLCGVKPFLWCDNKFMRKEGVHAFQFHDMGPNKTGNDSMNDIEIFVAFHMLTPPIAIWVYWNYTKSYLCWQRVLMWHQQGQKEGQFKDFRKEVDGSQPLRRECDKHTWPLNYGNSDSCKMLCCARQCFWYNSENYWWGINHQITKMWFICLLSPYVNRDNVSKWLCKPLNKHWYILKQAFNGMLSITQEPYWWFNYQGNNAAVIWSVNRAFPIIHALMWAVM\n"
     ]
    },
    {
     "name": "stdout",
     "output_type": "stream",
     "text": [
      "985\n"
     ]
    }
   ],
   "source": [
    "import sys\n",
    "\n",
    "sequence = input(\"Введите последовательность аминокислот: \").strip().upper()\n",
    "print(sys.getsizeof(sequence))  #выведет размер строки в байтах"
   ]
  },
  {
   "cell_type": "code",
   "execution_count": 15,
   "id": "b618adff-eed8-4e93-b4d7-6012c7a814b6",
   "metadata": {},
   "outputs": [
    {
     "data": {
      "text/plain": [
       "'C:\\\\Users\\\\Anna'"
      ]
     },
     "execution_count": 15,
     "metadata": {},
     "output_type": "execute_result"
    }
   ],
   "source": [
    "import os\n",
    "os.getcwd()"
   ]
  },
  {
   "cell_type": "code",
   "execution_count": 3,
   "id": "ec6c63a5-b670-4534-a83f-aa865dd6a663",
   "metadata": {},
   "outputs": [
    {
     "name": "stdin",
     "output_type": "stream",
     "text": [
      "Введите последовательность аминокислот:  IQIDTGCMSDFNIDQMRSIVGAAKYTDLAEPPCNTWSNRPIFRKCWRNVMATDKYRMSINNYNPYQHYNIRLKNDWYPEVVSYHLWVTIEPWLNDGMFLAFDDAWFLLICWPQHWSHRYSRYQDYWACYCFRGFKGFELMDGNWDHLAYFFWCHFPSPCFPVSIKSPAYVLLDFGVHGNQDGYTAESSHMYYWIENLMWCTWDCERQDWYMEVYWVDWKVFACKRNVWVDDTMSDHTLLTHEGYCYYPMYSYELHYIDDHNCSEIWFAFIHGMDHDTMEWTYRRMIEWGMGDQSSVWKDRIVREMMMYCVGIDFERWDYACSDKLNSGIYAIVFNMRHTFMNKDWLFIEDWQDKEGIQHVSECQAQKGFDSFWSWSYGGSRLCDWIVGQQNHVCMLLRLGMVADHVLPYQWVNLQTNGSFARRQKSNYGKIANCGPTNRAKVDRSEECKKHHIEGHNTPLKCTDKQWPFNVRTYTVGFRRYFSQRWPFTRNGTRMIGFIYLYCAYYLRDCYCNRVTQYKKPVDHIITLPDFRRISMLTSPNGAVGYTCMIGHYTRWPIPNIHLFMLPDNERWYNGGSASGQHLSQVHSTWNWRIHCTNASASIYLNHDRRFPCCYVSCLLGHVCKYACKRCSWYHYPHENQGHTKGSTRYFIPVTYYKGADHIVECQNGQRFMYMCDFIPYVAAEWLWKFTRHMVMFERVSMFWRPQGKRDYIYKVALFKRSNDIHASHGRPEPYNCWETLVPYTPADQKFKVLGVSYMICNHKCSAVPVVKDNYPNCWWYKRTTDTPMIIAHEPTEGPVSDVSEVQQMGRGAMVWYEQWRHWCRHAINHPYGMAEFRFWWFGNQIPECVMDRLCDQHIMCYHGWWPKSFEETF\n"
     ]
    },
    {
     "name": "stdout",
     "output_type": "stream",
     "text": [
      "Масса протеина: 108342.676370\n"
     ]
    }
   ],
   "source": [
    "class ProteinMassCalculator:\n",
    "    def __init__(self):\n",
    "        self.masses = {\n",
    "            'A': 71.03711, 'C': 103.00919, 'D': 115.02694, 'E': 129.04259,\n",
    "            'F': 147.06841, 'G': 57.02146, 'H': 137.05891, 'I': 113.08406,\n",
    "            'K': 128.09496, 'L': 113.08406, 'M': 131.04049, 'N': 114.04293,\n",
    "            'P': 97.05276, 'Q': 128.05858, 'R': 156.10111, 'S': 87.03203,\n",
    "            'T': 101.04768, 'V': 99.06841, 'W': 186.07931, 'Y': 163.06333\n",
    "        }\n",
    "        self.water_mass = 18.01056\n",
    "\n",
    "    def determine_chunk_size(self, sequence_length):\n",
    "        if sequence_length <= 50:\n",
    "            return sequence_length  # обрабатываем сразу всю строку\n",
    "        elif sequence_length <= 200:\n",
    "            return 50\n",
    "        elif sequence_length <= 1000:\n",
    "            return 100\n",
    "        else:\n",
    "            return 200  # для длинных последовательностей увеличиваем чанк\n",
    "\n",
    "    def calculate_mass(self, sequence):\n",
    "        for index, aa in enumerate(sequence):\n",
    "            if aa not in self.masses:\n",
    "                raise ValueError(f\"Ошибка на позиции {index+1}: недопустимый символ '{aa}'\")\n",
    "\n",
    "        chunk_size = self.determine_chunk_size(len(sequence))\n",
    "        total_mass = 0\n",
    "        left = 0\n",
    "        right = len(sequence)\n",
    "\n",
    "        while left < right:\n",
    "            # Берём чанк с начала\n",
    "            chunk_left = sequence[left:left + chunk_size]\n",
    "            left_mass = sum(self.masses[aa] for aa in chunk_left)\n",
    "            total_mass += left_mass\n",
    "            left += chunk_size  # Смещаем границу\n",
    "\n",
    "            # Берём чанк с конца, если ещё есть символы\n",
    "            if right - chunk_size > left:\n",
    "                chunk_right = sequence[right - chunk_size:right]\n",
    "                right_mass = sum(self.masses[aa] for aa in chunk_right)\n",
    "                total_mass += right_mass\n",
    "                right -= chunk_size  # Смещаем границу\n",
    "\n",
    "        total_mass += self.water_mass\n",
    "        return total_mass\n",
    "\n",
    "if __name__ == \"__main__\":\n",
    "    calculator = ProteinMassCalculator()\n",
    "    sequence = input(\"Введите последовательность аминокислот: \").strip().upper()\n",
    "    try:\n",
    "        mass = calculator.calculate_mass(sequence)\n",
    "        print(f\"Масса протеина: {mass:.6f}\")\n",
    "    except ValueError as e:\n",
    "        print(e)"
   ]
  }
 ],
 "metadata": {
  "kernelspec": {
   "display_name": "Python 3 (ipykernel)",
   "language": "python",
   "name": "python3"
  },
  "language_info": {
   "codemirror_mode": {
    "name": "ipython",
    "version": 3
   },
   "file_extension": ".py",
   "mimetype": "text/x-python",
   "name": "python",
   "nbconvert_exporter": "python",
   "pygments_lexer": "ipython3",
   "version": "3.12.9"
  }
 },
 "nbformat": 4,
 "nbformat_minor": 5
}
