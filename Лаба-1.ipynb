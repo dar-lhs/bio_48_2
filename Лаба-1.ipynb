{
 "cells": [
  {
   "cell_type": "code",
   "execution_count": 3,
   "id": "7f76379e-b3f7-49ef-9c99-2f9808a3ab77",
   "metadata": {},
   "outputs": [
    {
     "name": "stdout",
     "output_type": "stream",
     "text": [
      "Количество пар кроликов через 6 месяцев: 4\n"
     ]
    }
   ],
   "source": [
    "#var_2\n",
    "def rabbit_pairs(n, m):\n",
    "    # Создаем массив для хранения количества пар кроликов в каждом месяце\n",
    "    if n == 0:\n",
    "        return 0\n",
    "    elif n == 1:\n",
    "        return 1\n",
    "    \n",
    "    # Инициализируем массив с нулями\n",
    "    dp = [0] * (n + 1)\n",
    "    \n",
    "    # В первом месяце одна пара кроликов\n",
    "    dp[1] = 1\n",
    "    \n",
    "    # Заполняем массив\n",
    "    for month in range(2, n + 1):\n",
    "        # Пары кроликов в текущем месяце равны парам в предыдущем месяце\n",
    "        # плюс пары, которые были созданы m месяцев назад (если они еще живы)\n",
    "        dp[month] = dp[month - 1]\n",
    "        \n",
    "        if month - m >= 1:\n",
    "            dp[month] += dp[month - m]\n",
    "    \n",
    "    return dp[n]\n",
    "\n",
    "n = 6  # Общее количество месяцев\n",
    "m = 3  # Количество месяцев жизни кроликов\n",
    "result = rabbit_pairs(n, m)\n",
    "print(f\"Количество пар кроликов через {n} месяцев: {result}\")\n"
   ]
  },
  {
   "cell_type": "code",
   "execution_count": null,
   "id": "fe272606-005e-4164-b084-366c0f809d92",
   "metadata": {},
   "outputs": [
    {
     "name": "stdin",
     "output_type": "stream",
     "text": [
      "Угадайте число от 0 до 100:  88\n"
     ]
    },
    {
     "name": "stdout",
     "output_type": "stream",
     "text": [
      "Слишком большое\n"
     ]
    },
    {
     "name": "stdin",
     "output_type": "stream",
     "text": [
      "Угадайте число от 0 до 100:  12\n"
     ]
    },
    {
     "name": "stdout",
     "output_type": "stream",
     "text": [
      "Слишком маленькое\n"
     ]
    },
    {
     "name": "stdin",
     "output_type": "stream",
     "text": [
      "Угадайте число от 0 до 100:  6\n"
     ]
    },
    {
     "name": "stdout",
     "output_type": "stream",
     "text": [
      "Слишком маленькое\n"
     ]
    },
    {
     "name": "stdin",
     "output_type": "stream",
     "text": [
      "Угадайте число от 0 до 100:  100\n"
     ]
    },
    {
     "name": "stdout",
     "output_type": "stream",
     "text": [
      "Слишком большое\n"
     ]
    }
   ],
   "source": [
    "#упражнение 1\n",
    "import random\n",
    "\n",
    "def guessing_game():\n",
    "    \"\"\"Игра-угадайка: пользователь пытается угадать случайное число от 0 до 100.\"\"\"\n",
    "    target = random.randint(0, 100)\n",
    "    while True:\n",
    "        try:\n",
    "            guess = int(input(\"Угадайте число от 0 до 100: \"))\n",
    "            if guess < target:\n",
    "                print(\"Слишком маленькое\")\n",
    "            elif guess > target:\n",
    "                print(\"Слишком большое\")\n",
    "            else:\n",
    "                print(\"То, что нужно! Вы угадали.\")\n",
    "                break\n",
    "        except ValueError:\n",
    "            print(\"Пожалуйста, введите целое число.\")\n",
    "\n",
    "guessing_game()\n"
   ]
  },
  {
   "cell_type": "code",
   "execution_count": 1,
   "id": "d09581af-831c-41db-956c-c29338ec2d59",
   "metadata": {},
   "outputs": [
    {
     "name": "stdout",
     "output_type": "stream",
     "text": [
      "6\n"
     ]
    }
   ],
   "source": [
    "#ex 2\n",
    "def mysum(*args):\n",
    "    total = 0\n",
    "    for num in args:\n",
    "        total += num\n",
    "    return total\n",
    "print(mysum(1, 2, 3))  # 6\n"
   ]
  },
  {
   "cell_type": "code",
   "execution_count": 1,
   "id": "ea9ea3e8-cfcd-40c6-adf6-62cf1b9cfdb8",
   "metadata": {},
   "outputs": [
    {
     "name": "stdin",
     "output_type": "stream",
     "text": [
      "Угадайте число от 0 до 100:  23\n"
     ]
    },
    {
     "name": "stdout",
     "output_type": "stream",
     "text": [
      "Слишком маленькое\n"
     ]
    },
    {
     "name": "stdin",
     "output_type": "stream",
     "text": [
      "Угадайте число от 0 до 100:  45\n"
     ]
    },
    {
     "name": "stdout",
     "output_type": "stream",
     "text": [
      "Слишком большое\n"
     ]
    },
    {
     "name": "stdin",
     "output_type": "stream",
     "text": [
      "Угадайте число от 0 до 100:  40\n"
     ]
    },
    {
     "name": "stdout",
     "output_type": "stream",
     "text": [
      "Слишком большое\n"
     ]
    },
    {
     "name": "stdin",
     "output_type": "stream",
     "text": [
      "Угадайте число от 0 до 100:  39\n"
     ]
    },
    {
     "name": "stdout",
     "output_type": "stream",
     "text": [
      "Слишком большое\n"
     ]
    },
    {
     "name": "stdin",
     "output_type": "stream",
     "text": [
      "Угадайте число от 0 до 100:  38\n"
     ]
    },
    {
     "name": "stdout",
     "output_type": "stream",
     "text": [
      "Слишком большое\n"
     ]
    },
    {
     "name": "stdin",
     "output_type": "stream",
     "text": [
      "Угадайте число от 0 до 100:  37\n"
     ]
    },
    {
     "name": "stdout",
     "output_type": "stream",
     "text": [
      "То, что нужно! Вы угадали.\n"
     ]
    }
   ],
   "source": [
    "#ex 1\n",
    "import random\n",
    "\n",
    "def guessing_game():\n",
    "    #Игра-угадайка: пользователь пытается угадать случайное число от 0 до 100.\n",
    "    target = random.randint(0, 100)\n",
    "    while True:\n",
    "        try:\n",
    "            guess = int(input(\"Угадайте число от 0 до 100: \"))\n",
    "            if guess < target:\n",
    "                print(\"Слишком маленькое\")\n",
    "            elif guess > target:\n",
    "                print(\"Слишком большое\")\n",
    "            else:\n",
    "                print(\"То, что нужно! Вы угадали.\")\n",
    "                break\n",
    "        except ValueError:\n",
    "            print(\"Пожалуйста, введите целое число.\")\n",
    "\n",
    "# Пример вызова функции\n",
    "guessing_game()"
   ]
  },
  {
   "cell_type": "code",
   "execution_count": 6,
   "id": "ae4b4a3e-fde3-4d1f-92c1-623fe7ffff59",
   "metadata": {},
   "outputs": [
    {
     "name": "stdout",
     "output_type": "stream",
     "text": [
      "10\n",
      "3.0\n",
      "(3, 8, 5.333333333333333)\n",
      "10\n"
     ]
    }
   ],
   "source": [
    "#ex 2 с допом\n",
    "from typing import List, Tuple, Any\n",
    "\n",
    "def mysum(numbers: List[int], start: int = 0) -> int:\n",
    "    #Возвращает сумму чисел в списке с возможностью указания начального значения.\n",
    "    total = start\n",
    "    for num in numbers:\n",
    "        total += num\n",
    "    return total\n",
    "\n",
    "def average(numbers: List[int]) -> float:\n",
    "    #Возвращает среднее значение списка чисел.\n",
    "    return sum(numbers) / len(numbers) if numbers else 0\n",
    "\n",
    "def word_length_stats(words: List[str]) -> Tuple[int, int, float]:\n",
    "    #Возвращает длину самого короткого, самого длинного слова и среднюю длину слов.\n",
    "    if not words:\n",
    "        return (0, 0, 0.0)\n",
    "    lengths = [len(word) for word in words]\n",
    "    return min(lengths), max(lengths), sum(lengths) / len(lengths)\n",
    "\n",
    "def sum_integers(objects: List[Any]) -> int:\n",
    "    #Суммирует объекты, которые являются целыми числами или могут быть преобразованы в int.\n",
    "    total = 0\n",
    "    for obj in objects:\n",
    "        try:\n",
    "            total += int(obj)\n",
    "        except (ValueError, TypeError):\n",
    "            pass\n",
    "    return total\n",
    "\n",
    "#Примеры\n",
    "print(mysum([1, 2, 3], 4))  # 10\n",
    "print(average([1, 2, 3, 4, 5]))  # 3.0\n",
    "print(word_length_stats([\"cat\", \"elephant\", \"tiger\"]))  # (3, 8, 5.3333)\n",
    "print(sum_integers([1, \"2\", 3.5, \"abc\", 4]))  # 10"
   ]
  },
  {
   "cell_type": "code",
   "execution_count": 11,
   "id": "68a914e0-7eff-49ea-a902-3777e4e912a6",
   "metadata": {},
   "outputs": [
    {
     "name": "stdin",
     "output_type": "stream",
     "text": [
      "Введите время пробега 10 км:  2\n",
      "Введите время пробега 10 км:  3\n",
      "Введите время пробега 10 км:  4\n",
      "Введите время пробега 10 км:  5\n",
      "Введите время пробега 10 км:  \n"
     ]
    },
    {
     "name": "stdout",
     "output_type": "stream",
     "text": [
      "Средний показатель 3.5, более 4 пробежек\n"
     ]
    }
   ],
   "source": [
    "#ex 3\n",
    "def run_timing():\n",
    "    times = []\n",
    "    while True:\n",
    "        user_input = input(\"Введите время пробега 10 км: \")\n",
    "        if not user_input:\n",
    "            break\n",
    "        try:\n",
    "            times.append(float(user_input))\n",
    "        except ValueError:\n",
    "            print(\"Пожалуйста, введите число.\")\n",
    "    if times:\n",
    "        print(f\"Средний показатель {sum(times) / len(times):.1f}, более {len(times)} пробежек\")\n",
    "    else:\n",
    "        print(\"Нет данных о пробежках.\")\n",
    "run_timing()"
   ]
  },
  {
   "cell_type": "code",
   "execution_count": 19,
   "id": "11962a4e-d7c8-4d3b-8a6f-5887e3efbd4d",
   "metadata": {},
   "outputs": [
    {
     "name": "stdin",
     "output_type": "stream",
     "text": [
      "Введите шестнадцатеричное число для преобразования:  1A3\n"
     ]
    },
    {
     "name": "stdout",
     "output_type": "stream",
     "text": [
      "Десятичное представление: 419\n"
     ]
    }
   ],
   "source": [
    "#ex 4\n",
    "def hex_output():\n",
    "    decnum = 0\n",
    "    hexnum = input('Введите шестнадцатеричное число для преобразования: ')\n",
    "    #Переводим каждую цифру в шестнадцатеричном числе\n",
    "    for power, digit in enumerate(reversed(hexnum)):\n",
    "        decnum += int(digit, 16) * (16 ** power)\n",
    "    print(f'Десятичное представление: {decnum}')\n",
    "hex_output()"
   ]
  },
  {
   "cell_type": "code",
   "execution_count": 23,
   "id": "c8a0010b-4eca-4e4f-b79d-329414781284",
   "metadata": {},
   "outputs": [
    {
     "name": "stdout",
     "output_type": "stream",
     "text": [
      "ythonpay\n"
     ]
    }
   ],
   "source": [
    "#ex 5\n",
    "def pig_latin(word):\n",
    "    if word[0] in 'aeiou': \n",
    "        return f'{word} way'\n",
    "    return f'{word[1:]}{word[0]}ay'  \n",
    "print(pig_latin('python'))"
   ]
  },
  {
   "cell_type": "code",
   "execution_count": 24,
   "id": "a5530394-d58c-48ef-a34c-2d3e5e0d6be4",
   "metadata": {},
   "outputs": [
    {
     "name": "stdout",
     "output_type": "stream",
     "text": [
      "histay isway away esttay ranslationtay\n"
     ]
    }
   ],
   "source": [
    "#ex 6\n",
    "def pl_sentence(sentence):\n",
    "    #if строка пустая, возвращаем пустую строку\n",
    "    if not sentence:\n",
    "        return \"\"\n",
    "\n",
    "    output = []\n",
    "    \n",
    "    for word in sentence.split():\n",
    "        if word[0] in 'aeiou':  #Проверяем, начинается ли слово с гласной\n",
    "            output.append(f'{word}way')  #Добавляем 'way'\n",
    "        else:\n",
    "            #Перемещаем первую букву в конец и добавляем 'ay'\n",
    "            output.append(f'{word[1:]}{word[0]}ay')\n",
    "    \n",
    "    # Объединяем все слова в одну строку и возвращаем\n",
    "    return ' '.join(output)\n",
    "\n",
    "# Пример использования\n",
    "print(pl_sentence('this is a test translation')) \n"
   ]
  },
  {
   "cell_type": "code",
   "execution_count": 27,
   "id": "08ade4c1-cfe2-4280-b94e-290756de59ee",
   "metadata": {},
   "outputs": [
    {
     "name": "stdout",
     "output_type": "stream",
     "text": [
      "python -> pythubon\n",
      "apple -> ubapplube\n",
      "mouse -> muboubusube\n",
      "summer -> subummuber\n",
      "Programming -> Prubogrubammubing\n"
     ]
    }
   ],
   "source": [
    "#ex 7\n",
    "def ubbi_dubbi(word):\n",
    "    output = []  \n",
    "    vowels = 'aeiouAEIOU'  \n",
    "\n",
    "    for letter in word:  # Итерация по каждой букве в слове\n",
    "        if letter in vowels:  # Если буква гласная\n",
    "            output.append(f'ub{letter}')  \n",
    "        else:\n",
    "            output.append(letter)  \n",
    "            \n",
    "    return ''.join(output)  \n",
    "\n",
    "# Пример использования\n",
    "if __name__ == \"__main__\":\n",
    "    test_words = ['python', 'apple', 'mouse', 'summer', 'Programming']\n",
    "\n",
    "    for word in test_words:\n",
    "        print(f\"{word} -> {ubbi_dubbi(word)}\")\n"
   ]
  },
  {
   "cell_type": "code",
   "execution_count": 29,
   "id": "24c88479-315f-4616-93f3-d3d260dfc240",
   "metadata": {},
   "outputs": [
    {
     "name": "stdout",
     "output_type": "stream",
     "text": [
      "adefrw\n"
     ]
    }
   ],
   "source": [
    "#ex 8\n",
    "def strsort(a_string):\n",
    "    return ''.join(sorted(a_string))\n",
    "    \n",
    "# Пример использования\n",
    "print(strsort('werdfa'))"
   ]
  },
  {
   "cell_type": "code",
   "execution_count": 32,
   "id": "0dc92b9e-381f-40f2-ab38-77f900d1033d",
   "metadata": {},
   "outputs": [
    {
     "name": "stdout",
     "output_type": "stream",
     "text": [
      "dj\n",
      "[6, 8]\n"
     ]
    }
   ],
   "source": [
    "#ex 9\n",
    "def firstlast(sequence):\n",
    "    if not sequence:\n",
    "        return sequence \n",
    "    \n",
    "    first = sequence[0]\n",
    "    last = sequence[-1]\n",
    "    \n",
    "    #Формируем новый тип последовательности\n",
    "    if isinstance(sequence, str):  #Если это строка, возвращаем строку\n",
    "        return first + last\n",
    "    elif isinstance(sequence, list):  \n",
    "        return [first, last]\n",
    "    elif isinstance(sequence, tuple):  \n",
    "        return (first, last)\n",
    "    else:\n",
    "        raise ValueError(\"Unsupported sequence type\")  # Обработка неподдерживаемого типа\n",
    "\n",
    "# Примеры использования\n",
    "print(firstlast('defj')) \n",
    "print(firstlast([6, 7, 8])) "
   ]
  },
  {
   "cell_type": "code",
   "execution_count": 37,
   "id": "58788de3-b871-4215-b4d5-9f9534d5ec20",
   "metadata": {},
   "outputs": [
    {
     "name": "stdout",
     "output_type": "stream",
     "text": [
      "60\n",
      "abcd0\n",
      "360\n",
      "411\n",
      "Unsupported type: <class 'dict'>\n"
     ]
    }
   ],
   "source": [
    "#ex 10\n",
    "def mysum(*items):\n",
    "    if not items:\n",
    "        return 0  \n",
    "    output = 0\n",
    "    str_output = ''  \n",
    "    for item in items:\n",
    "        if isinstance(item, (int, float)):  #Если элемент число\n",
    "            output += item\n",
    "        elif isinstance(item, str):  #Если элемент строка\n",
    "            str_output += item\n",
    "        elif isinstance(item, list):  #Если элемент список\n",
    "            output += sum(item)\n",
    "        else:\n",
    "            raise TypeError(f\"Unsupported type: {type(item)}\")  #Поддерживаем только числа, строки и списки\n",
    "    \n",
    "    return str_output + str(output)\n",
    "\n",
    "#Примеры использования функции\n",
    "print(mysum(10, 20, 30))  \n",
    "print(mysum('a', 'b', 'c', 'd'))  \n",
    "print(mysum([10, 20, 30], [40, 50, 60], [70, 80]))  \n",
    "print(mysum(1, [2, 3], '4', 5))  \n",
    "\n",
    "#Пример с неправильным вводом\n",
    "try:\n",
    "    print(mysum(10, '20', {30: 1}))  # Это вызовет ошибку\n",
    "except TypeError as e:\n",
    "    print(e)  # Вывод ошибки\n"
   ]
  },
  {
   "cell_type": "code",
   "execution_count": 40,
   "id": "3c6335f6-6555-4d84-bc6a-79104d9c3fc6",
   "metadata": {},
   "outputs": [
    {
     "name": "stdout",
     "output_type": "stream",
     "text": [
      "[{'first': 'Maria', 'last': 'Chiuri', 'email': 'science@world.com'}, {'first': 'Reuven', 'last': 'Lerner', 'email': 'reuven@lerner.co.il'}]\n"
     ]
    }
   ],
   "source": [
    "#ex 11\n",
    "import operator\n",
    "\n",
    "PEOPLE = [\n",
    "    {'first': 'Reuven', 'last': 'Lerner', 'email': 'reuven@lerner.co.il'},\n",
    "    {'first': 'Maria', 'last': 'Chiuri', 'email': 'science@world.com'}\n",
    "]\n",
    "\n",
    "def alphabetize_names(list_of_dicts):\n",
    "    return sorted(list_of_dicts, key=operator.itemgetter('last', 'first'))\n",
    "\n",
    "# Пример использования\n",
    "print(alphabetize_names(PEOPLE))\n"
   ]
  }
 ],
 "metadata": {
  "kernelspec": {
   "display_name": "Python 3 (ipykernel)",
   "language": "python",
   "name": "python3"
  },
  "language_info": {
   "codemirror_mode": {
    "name": "ipython",
    "version": 3
   },
   "file_extension": ".py",
   "mimetype": "text/x-python",
   "name": "python",
   "nbconvert_exporter": "python",
   "pygments_lexer": "ipython3",
   "version": "3.12.9"
  }
 },
 "nbformat": 4,
 "nbformat_minor": 5
}
